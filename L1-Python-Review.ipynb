{
 "cells": [
  {
   "cell_type": "markdown",
   "metadata": {},
   "source": [
    "# Review of Python Basics\n",
    "\n",
    "Original tutorial developed by DePaul University (CSC 478) - revised by Dr. Jie Tao."
   ]
  },
  {
   "cell_type": "markdown",
   "metadata": {},
   "source": [
    "## Basic Calculations"
   ]
  },
  {
   "cell_type": "markdown",
   "metadata": {},
   "source": [
    "Basic arithmetic calculations:"
   ]
  },
  {
   "cell_type": "code",
   "execution_count": 1,
   "metadata": {
    "collapsed": false
   },
   "outputs": [
    {
     "data": {
      "text/plain": [
       "7"
      ]
     },
     "execution_count": 1,
     "metadata": {},
     "output_type": "execute_result"
    }
   ],
   "source": [
    "# Algebra: add (+), subtract (-), multiply (*), divide (/)\n",
    "# PEMDAS order\n",
    "\n",
    "x = 1 + 2 * 3\n",
    "x"
   ]
  },
  {
   "cell_type": "markdown",
   "metadata": {},
   "source": [
    "Other calculations:"
   ]
  },
  {
   "cell_type": "code",
   "execution_count": 2,
   "metadata": {
    "collapsed": false
   },
   "outputs": [
    {
     "data": {
      "text/plain": [
       "8"
      ]
     },
     "execution_count": 2,
     "metadata": {},
     "output_type": "execute_result"
    }
   ],
   "source": [
    "# Exponents use **\n",
    "# 2 to the 3rd power\n",
    "\n",
    "y = 2 ** 3\n",
    "y"
   ]
  },
  {
   "cell_type": "markdown",
   "metadata": {},
   "source": [
    "Logic Calculation:"
   ]
  },
  {
   "cell_type": "code",
   "execution_count": 3,
   "metadata": {
    "collapsed": false
   },
   "outputs": [
    {
     "data": {
      "text/plain": [
       "False"
      ]
     },
     "execution_count": 3,
     "metadata": {},
     "output_type": "execute_result"
    }
   ],
   "source": [
    "# Double equal checks for equality\n",
    "# Single equal defines a variable\n",
    "\n",
    "x == y"
   ]
  },
  {
   "cell_type": "markdown",
   "metadata": {},
   "source": [
    "String Calculation:"
   ]
  },
  {
   "cell_type": "code",
   "execution_count": 4,
   "metadata": {
    "collapsed": false
   },
   "outputs": [
    {
     "name": "stdout",
     "output_type": "stream",
     "text": [
      "FairfieldUniversity\n"
     ]
    }
   ],
   "source": [
    "# Define string with =\n",
    "# Make sure to use ' ' for strings\n",
    "# Addition will put the strings together eliminating spaces\n",
    "\n",
    "my_str = 'Fairfield' + 'University'\n",
    "print(my_str)"
   ]
  },
  {
   "cell_type": "code",
   "execution_count": 5,
   "metadata": {
    "collapsed": false
   },
   "outputs": [
    {
     "data": {
      "text/plain": [
       "'FAIRFIELDUNIVERSITY'"
      ]
     },
     "execution_count": 5,
     "metadata": {},
     "output_type": "execute_result"
    }
   ],
   "source": [
    "# .upper() capitalizes all the letters in a defined string\n",
    "\n",
    "my_str.upper()"
   ]
  },
  {
   "cell_type": "code",
   "execution_count": 6,
   "metadata": {
    "collapsed": false
   },
   "outputs": [
    {
     "data": {
      "text/plain": [
       "'fairfielduniversity'"
      ]
     },
     "execution_count": 6,
     "metadata": {},
     "output_type": "execute_result"
    }
   ],
   "source": [
    "# .upper() lowercases all the letters in a defined string\n",
    "\n",
    "my_str.lower()"
   ]
  },
  {
   "cell_type": "code",
   "execution_count": 7,
   "metadata": {
    "collapsed": false
   },
   "outputs": [
    {
     "data": {
      "text/plain": [
       "'FairfieldUniversity'"
      ]
     },
     "execution_count": 7,
     "metadata": {},
     "output_type": "execute_result"
    }
   ],
   "source": [
    "# Just prints the string\n",
    "\n",
    "my_str"
   ]
  },
  {
   "cell_type": "markdown",
   "metadata": {},
   "source": [
    "Notice that upper() and lower() are methods - they do not change the variable value."
   ]
  },
  {
   "cell_type": "code",
   "execution_count": 8,
   "metadata": {
    "collapsed": false
   },
   "outputs": [
    {
     "data": {
      "text/plain": [
       "19"
      ]
     },
     "execution_count": 8,
     "metadata": {},
     "output_type": "execute_result"
    }
   ],
   "source": [
    "# 'len()' finds the length\n",
    "# 19 letters in 'my_str'\n",
    "\n",
    "len(my_str)"
   ]
  },
  {
   "cell_type": "markdown",
   "metadata": {},
   "source": [
    "## Data Types"
   ]
  },
  {
   "cell_type": "code",
   "execution_count": 9,
   "metadata": {
    "collapsed": false
   },
   "outputs": [
    {
     "name": "stdout",
     "output_type": "stream",
     "text": [
      "[5, 20, 13]\n"
     ]
    }
   ],
   "source": [
    "# Define variables and add them into other functions \n",
    "# '[]' creates a list\n",
    "# This prints the results of a b and c\n",
    "\n",
    "a = 2 + 3\n",
    "b = a * 4\n",
    "c = b - 7\n",
    "L = [a,b,c]\n",
    "print(L)"
   ]
  },
  {
   "cell_type": "code",
   "execution_count": 10,
   "metadata": {
    "collapsed": false
   },
   "outputs": [
    {
     "name": "stdout",
     "output_type": "stream",
     "text": [
      "[5, 20, 13, 10, 2, 'a', 3.5]\n"
     ]
    }
   ],
   "source": [
    "# Previous variables can be used in a new equation\n",
    "    # Make sure to clearly define and remember the variables you have used\n",
    "# This prints the previous 'L' list plus list 'M'\n",
    "# Notice 'a' is printed as 'a' because of the quotes making it a string, \n",
    "    # not the number associated with a (5)\n",
    "    \n",
    "M = [10, 2, \"a\", 3.5]\n",
    "N = L + M\n",
    "print(N)"
   ]
  },
  {
   "cell_type": "code",
   "execution_count": 11,
   "metadata": {
    "collapsed": false
   },
   "outputs": [
    {
     "data": {
      "text/plain": [
       "7"
      ]
     },
     "execution_count": 11,
     "metadata": {},
     "output_type": "execute_result"
    }
   ],
   "source": [
    "# len() finds the length of the list\n",
    "# There are 7 numbers/letters in list N\n",
    "\n",
    "len(N)"
   ]
  },
  {
   "cell_type": "markdown",
   "metadata": {},
   "source": [
    "Lists + Dicts:"
   ]
  },
  {
   "cell_type": "code",
   "execution_count": 12,
   "metadata": {
    "collapsed": false
   },
   "outputs": [
    {
     "name": "stdout",
     "output_type": "stream",
     "text": [
      "apples for sale\n",
      "oranges for sale\n",
      "pears for sale\n",
      "bananas for sale\n",
      "apples are too expensive!\n",
      "oranges cost 1.500000 a pound\n",
      "pears cost 1.750000 a pound\n"
     ]
    }
   ],
   "source": [
    "# This is what a comment looks like \n",
    "\n",
    "# LIST:\n",
    "# fruits list is defined \n",
    "# for loop prints the word in the list plus for sale individually\n",
    "    # \"apples for sale\"\n",
    "\n",
    "fruits = ['apples','oranges','pears','bananas']\n",
    "for fruit in fruits:\n",
    "    print (fruit + ' for sale')\n",
    "\n",
    "# DICTIONARY:\n",
    "# Dictionary = {'key':'value',...} (can use both strings and/or integers)\n",
    "# fruitPrices links one word/number to another\n",
    "    # Apples are 2.00.. oranges are 1.50.. pears are 1.75\n",
    "# for loop if statement:\n",
    "    # if the price (the value) is less than 2.. \n",
    "        # print '\"fruit name\" cost \"price\" a pound'\n",
    "        # %s and %f connect the fruit to the price.. use '%(fruit, price)' at the end\n",
    "        # notice the for loop begins with 'for fruit, price'\n",
    "    # else print the price (the value) and add the string 'are too expensive!'\n",
    "\n",
    "fruitPrices = {'apples': 2.00, 'oranges': 1.50, 'pears': 1.75}\n",
    "for fruit, price in fruitPrices.items():\n",
    "    if price < 2.00:\n",
    "        print ('%s cost %f a pound' % (fruit, price))\n",
    "    else:\n",
    "        print (fruit + ' are too expensive!')\n",
    "        \n",
    "# Final result will print the first for loop lines followed by the second for loop price comparison\n",
    "\n",
    "# ** Lists use [] and Dictionaries use {} !!!! **"
   ]
  },
  {
   "cell_type": "code",
   "execution_count": 13,
   "metadata": {
    "collapsed": false
   },
   "outputs": [
    {
     "name": "stdout",
     "output_type": "stream",
     "text": [
      "plusOneNums = [2, 3, 4, 5, 6, 7]\n",
      "oddNums =  [1, 3, 5]\n",
      "oddNumsPlusOne =  [2, 4, 6]\n"
     ]
    }
   ],
   "source": [
    "# Example of python's list comprehension construction:\n",
    "\n",
    "# Define a list of numbers as 'nums'\n",
    "# plusOneNums is a list for statement\n",
    "    # Add 1 to x.. x is each number in the list 'nums'\n",
    "# Print 'plusOneNums=' to type the string and plusOneNums to print the true numbers\n",
    "\n",
    "nums = [1,2,3,4,5,6]\n",
    "plusOneNums = [x+1 for x in nums]\n",
    "print (\"plusOneNums =\", plusOneNums)\n",
    "\n",
    "# Define new list for odd numbers (oddNums)\n",
    "    # print x for x (x = a number in 'nums') if divisible by 2 equals 1 (if its odd)\n",
    "# Print 'oddNums=' to type the string and ',oddNums' to print the true numbers\n",
    "\n",
    "oddNums = [x for x in nums if x % 2 == 1]\n",
    "print (\"oddNums = \", oddNums)\n",
    "\n",
    "# Define new list for odd numbers plus 1.. *even numbers*.. (oddNumsPlusOne)\n",
    "    # add 1 to x (x = a number in 'nums'), then find if x is divisible by 2 equals 1 (if its odd)\n",
    "# Print 'oddNumsPlusOne=' to type the string and ',oddNumsPlusOne' to print the true numbers\n",
    "\n",
    "oddNumsPlusOne = [x+1 for x in nums if x % 2 ==1]\n",
    "print (\"oddNumsPlusOne = \", oddNumsPlusOne)"
   ]
  },
  {
   "cell_type": "markdown",
   "metadata": {},
   "source": [
    "Dictionaries:"
   ]
  },
  {
   "cell_type": "code",
   "execution_count": 14,
   "metadata": {
    "collapsed": false
   },
   "outputs": [
    {
     "data": {
      "text/plain": [
       "56.0"
      ]
     },
     "execution_count": 14,
     "metadata": {},
     "output_type": "execute_result"
    }
   ],
   "source": [
    "# Dictionaries\n",
    "# Remember dictionaries use {} (lists use [])\n",
    "\n",
    "# 'studentIds['turing']' will print the value that goes with the key\n",
    "    # 'turing' prints the value '56.0'\n",
    "    # 'knuth' prints the value '42.0'\n",
    "    # 'nash' prints the value '92.0'\n",
    "\n",
    "studentIds = {'knuth': 42.0, 'turing': 56.0, 'nash': 92.0 }\n",
    "studentIds['turing']"
   ]
  },
  {
   "cell_type": "code",
   "execution_count": 15,
   "metadata": {
    "collapsed": false
   },
   "outputs": [
    {
     "data": {
      "text/plain": [
       "{'knuth': 42.0, 'turing': 56.0, 'nash': 92.0, 'ada': 97.0}"
      ]
     },
     "execution_count": 15,
     "metadata": {},
     "output_type": "execute_result"
    }
   ],
   "source": [
    "# Add a value and key to a dictionary\n",
    "# DictionaryName['NewKey'] = Value\n",
    "# This adds the key 'ada' with the vaue '97.0' to the studentIds dictionary\n",
    "\n",
    "studentIds['ada'] = 97.0\n",
    "studentIds"
   ]
  },
  {
   "cell_type": "code",
   "execution_count": 16,
   "metadata": {
    "collapsed": false
   },
   "outputs": [
    {
     "data": {
      "text/plain": [
       "{'turing': 56.0, 'nash': 92.0, 'ada': 97.0}"
      ]
     },
     "execution_count": 16,
     "metadata": {},
     "output_type": "execute_result"
    }
   ],
   "source": [
    "# Delete a value and key in a dictionary\n",
    "# 'del' is used to delete\n",
    "# del DictionaryName['KeyName']\n",
    "    # you dont need the value\n",
    "# This deleted 'knuth' and the connected key '42' from the dictionary 'studentIds'\n",
    "\n",
    "del studentIds['knuth']\n",
    "studentIds"
   ]
  },
  {
   "cell_type": "code",
   "execution_count": 17,
   "metadata": {
    "collapsed": false
   },
   "outputs": [
    {
     "data": {
      "text/plain": [
       "{'turing': 56.0, 'nash': 92.0, 'ada': 97.0, 'knuth': [42.0, 'forty-two']}"
      ]
     },
     "execution_count": 17,
     "metadata": {},
     "output_type": "execute_result"
    }
   ],
   "source": [
    "# A value can be in the form of a list\n",
    "    # Use [] to add a list to a value\n",
    "# This makes knuths value a list stating a number and a string \n",
    "\n",
    "studentIds['knuth'] = [42.0,'forty-two']\n",
    "studentIds"
   ]
  },
  {
   "cell_type": "code",
   "execution_count": 18,
   "metadata": {
    "collapsed": false
   },
   "outputs": [
    {
     "data": {
      "text/plain": [
       "dict_keys(['turing', 'nash', 'ada', 'knuth'])"
      ]
     },
     "execution_count": 18,
     "metadata": {},
     "output_type": "execute_result"
    }
   ],
   "source": [
    "# Print out just the keys in the dictionary studentIds\n",
    "# .keys() prints a list of only the keys\n",
    "\n",
    "studentIds.keys()"
   ]
  },
  {
   "cell_type": "code",
   "execution_count": 19,
   "metadata": {
    "collapsed": false
   },
   "outputs": [
    {
     "data": {
      "text/plain": [
       "dict_values([56.0, 92.0, 97.0, [42.0, 'forty-two']])"
      ]
     },
     "execution_count": 19,
     "metadata": {},
     "output_type": "execute_result"
    }
   ],
   "source": [
    "# Print out just the values in the dictionary studentIds\n",
    "# .values() prints a list of only the values\n",
    "\n",
    "studentIds.values()"
   ]
  },
  {
   "cell_type": "code",
   "execution_count": 20,
   "metadata": {
    "collapsed": false
   },
   "outputs": [
    {
     "data": {
      "text/plain": [
       "dict_items([('turing', 56.0), ('nash', 92.0), ('ada', 97.0), ('knuth', [42.0, 'forty-two'])])"
      ]
     },
     "execution_count": 20,
     "metadata": {},
     "output_type": "execute_result"
    }
   ],
   "source": [
    "# Print out what is in the dictionary studentIds\n",
    "# .items() prints a list of the values and keys\n",
    "# dict_items([('key', value),...])\n",
    "\n",
    "studentIds.items()"
   ]
  },
  {
   "cell_type": "code",
   "execution_count": 21,
   "metadata": {
    "collapsed": false
   },
   "outputs": [
    {
     "data": {
      "text/plain": [
       "4"
      ]
     },
     "execution_count": 21,
     "metadata": {},
     "output_type": "execute_result"
    }
   ],
   "source": [
    "# Print the length of the dictionary\n",
    "# studentIds has 4 keys\n",
    "    # ** Counts a value and a key as 1\n",
    "len(studentIds) "
   ]
  },
  {
   "cell_type": "markdown",
   "metadata": {},
   "source": [
    "## Numpy Basics"
   ]
  },
  {
   "cell_type": "code",
   "execution_count": 22,
   "metadata": {
    "collapsed": true
   },
   "outputs": [],
   "source": [
    "# \"NumPy is a library for the Python programming language, adding support for large, \n",
    "# multi-dimensional arrays and matrices, along with a large collection of high-level \n",
    "# mathematical functions to operate on these arrays\"\n",
    "\n",
    "import numpy as np"
   ]
  },
  {
   "cell_type": "code",
   "execution_count": 23,
   "metadata": {
    "collapsed": false
   },
   "outputs": [
    {
     "data": {
      "text/plain": [
       "array([1, 2, 3, 4, 5])"
      ]
     },
     "execution_count": 23,
     "metadata": {},
     "output_type": "execute_result"
    }
   ],
   "source": [
    "# Creating a 1-d array\n",
    "# np.array() creates an array of numbers (similar to a list)\n",
    "\n",
    "my_arr = np.array([1,2,3,4,5])\n",
    "my_arr"
   ]
  },
  {
   "cell_type": "code",
   "execution_count": 24,
   "metadata": {
    "collapsed": false
   },
   "outputs": [
    {
     "data": {
      "text/plain": [
       "array([1, 2, 3, 4, 5, 6])"
      ]
     },
     "execution_count": 24,
     "metadata": {},
     "output_type": "execute_result"
    }
   ],
   "source": [
    "# Creating a 1-d array from an existing Python list\n",
    "# np.array can turn a predefined list into a numpy list\n",
    "\n",
    "my_lst = [1, 2, 3, 4, 5, 6]\n",
    "\n",
    "my_arr = np.array(my_lst)\n",
    "my_arr"
   ]
  },
  {
   "cell_type": "code",
   "execution_count": 26,
   "metadata": {
    "collapsed": false
   },
   "outputs": [
    {
     "data": {
      "text/plain": [
       "array([0.2, 0.4, 0.6, 0.8, 1. , 1.2])"
      ]
     },
     "execution_count": 26,
     "metadata": {},
     "output_type": "execute_result"
    }
   ],
   "source": [
    "# Divides each number in the array by 5\n",
    "# ex: 1/5 = 0.2\n",
    "my_arr/5"
   ]
  },
  {
   "cell_type": "code",
   "execution_count": 28,
   "metadata": {
    "collapsed": false
   },
   "outputs": [
    {
     "data": {
      "text/plain": [
       "array([ 2,  6, 12, 20, 30, 42])"
      ]
     },
     "execution_count": 28,
     "metadata": {},
     "output_type": "execute_result"
    }
   ],
   "source": [
    "# Multiply a Numpy array by a list\n",
    "# This example creates a list named \"my_res\" by multiplying the numbers in my_lst by another_arr\n",
    "   # 1*2=2, 2*3=6, 3*4=12, 4*5=20, 5*6=30, 6*7=42\n",
    "\n",
    "another_arr = np.array([2, 3, 4, 5, 6, 7])\n",
    "\n",
    "my_res = my_lst * another_arr\n",
    "my_res"
   ]
  },
  {
   "cell_type": "code",
   "execution_count": 30,
   "metadata": {
    "collapsed": false
   },
   "outputs": [
    {
     "data": {
      "text/plain": [
       "112"
      ]
     },
     "execution_count": 30,
     "metadata": {},
     "output_type": "execute_result"
    }
   ],
   "source": [
    "# .sum() adds up all the numbers in an array\n",
    "    # 2+6+12+20+30+42\n",
    "\n",
    "my_res.sum()"
   ]
  },
  {
   "cell_type": "code",
   "execution_count": 32,
   "metadata": {
    "collapsed": false
   },
   "outputs": [
    {
     "data": {
      "text/plain": [
       "18.666666666666668"
      ]
     },
     "execution_count": 32,
     "metadata": {},
     "output_type": "execute_result"
    }
   ],
   "source": [
    "# .mean() finds the mean of the array\n",
    "\n",
    "my_res.mean()"
   ]
  },
  {
   "cell_type": "code",
   "execution_count": 34,
   "metadata": {
    "collapsed": false
   },
   "outputs": [
    {
     "data": {
      "text/plain": [
       "112"
      ]
     },
     "execution_count": 34,
     "metadata": {},
     "output_type": "execute_result"
    }
   ],
   "source": [
    "# Dot product of two vectors\n",
    "    # (1*2 + 2*6 + 3*4 + 4*5 + 5*6 + 6*7) = (2 + 6 + 12 + 20 + 30 + 42) = 112\n",
    "\n",
    "np.dot(my_lst, another_arr)"
   ]
  },
  {
   "cell_type": "code",
   "execution_count": 36,
   "metadata": {
    "collapsed": false
   },
   "outputs": [
    {
     "data": {
      "text/plain": [
       "array([[1, 2, 3],\n",
       "       [4, 5, 6],\n",
       "       [7, 8, 9]])"
      ]
     },
     "execution_count": 36,
     "metadata": {},
     "output_type": "execute_result"
    }
   ],
   "source": [
    "# Creating a 2-d array\n",
    "# Multidimensional lists of items that are the same type and same size\n",
    "    # This makes 3 lists\n",
    "\n",
    "X = np.array([[1,2,3],[4,5,6],[7,8,9]])\n",
    "X"
   ]
  },
  {
   "cell_type": "code",
   "execution_count": 38,
   "metadata": {
    "collapsed": false
   },
   "outputs": [
    {
     "data": {
      "text/plain": [
       "array([[1, 4, 7],\n",
       "       [2, 5, 8],\n",
       "       [3, 6, 9]])"
      ]
     },
     "execution_count": 38,
     "metadata": {},
     "output_type": "execute_result"
    }
   ],
   "source": [
    "# Transpose a 2-d array\n",
    "# .T is used to transpose\n",
    "    # Transpose flips the lists and creates new lists\n",
    "    # All the first numbers are now a list, all the second numbers, and all the third numbers\n",
    "\n",
    "X.T"
   ]
  },
  {
   "cell_type": "code",
   "execution_count": 48,
   "metadata": {
    "collapsed": false
   },
   "outputs": [
    {
     "data": {
      "text/plain": [
       "6"
      ]
     },
     "execution_count": 48,
     "metadata": {},
     "output_type": "execute_result"
    }
   ],
   "source": [
    "# Array slicing\n",
    "    # 0, 1.. middle section\n",
    "    # 0, 1, 2.. last number in the middle section\n",
    "\n",
    "X[1,2]"
   ]
  },
  {
   "cell_type": "code",
   "execution_count": 50,
   "metadata": {
    "collapsed": false
   },
   "outputs": [
    {
     "data": {
      "text/plain": [
       "array([1, 2, 3])"
      ]
     },
     "execution_count": 50,
     "metadata": {},
     "output_type": "execute_result"
    }
   ],
   "source": [
    "# Row 0 (first row).. : = all the numbers\n",
    "\n",
    "X[0,:]"
   ]
  },
  {
   "cell_type": "code",
   "execution_count": 54,
   "metadata": {
    "collapsed": false
   },
   "outputs": [
    {
     "data": {
      "text/plain": [
       "array([[5, 6],\n",
       "       [8, 9]])"
      ]
     },
     "execution_count": 54,
     "metadata": {},
     "output_type": "execute_result"
    }
   ],
   "source": [
    "# Start at row 1 (skip row 0), through to the last row\n",
    "# Numbers 1 to the end\n",
    "    # Not the first number in the row, the middle and last number in the middle and end list\n",
    "\n",
    "X[1:,1:]\n",
    "\n"
   ]
  },
  {
   "cell_type": "code",
   "execution_count": 55,
   "metadata": {
    "collapsed": false
   },
   "outputs": [
    {
     "data": {
      "text/plain": [
       "array([[4, 5],\n",
       "       [7, 8]])"
      ]
     },
     "execution_count": 55,
     "metadata": {},
     "output_type": "execute_result"
    }
   ],
   "source": [
    "# Start at row 1 (skip row 0), through to the last row\n",
    "    # List numbers 0 and 1.. **The 2 does not count!, left number counts, right doesnt**\n",
    "    # The middle and last number in the middle and last list\n",
    "\n",
    "X[1:,0:2]"
   ]
  },
  {
   "cell_type": "code",
   "execution_count": 57,
   "metadata": {
    "collapsed": false
   },
   "outputs": [
    {
     "data": {
      "text/plain": [
       "array([False, False, False,  True,  True,  True])"
      ]
     },
     "execution_count": 57,
     "metadata": {},
     "output_type": "execute_result"
    }
   ],
   "source": [
    "# Using arrays to index into other arrays (e.g., Boolean masks)\n",
    "# \"A > 3\" finds compares each number in the list to the boolean \n",
    "    # If the number is greater than 3 it will say True, if it is less it will say False\n",
    "    # 1>3=False, 2>3=False, 3>3=False, 4>3=True, 5>3=True, 6>3=True\n",
    "\n",
    "A = np.array([1, 2, 3, 4, 5, 6])\n",
    "A > 3"
   ]
  },
  {
   "cell_type": "code",
   "execution_count": 59,
   "metadata": {
    "collapsed": false
   },
   "outputs": [
    {
     "data": {
      "text/plain": [
       "array([4, 5, 6])"
      ]
     },
     "execution_count": 59,
     "metadata": {},
     "output_type": "execute_result"
    }
   ],
   "source": [
    "# This only outputs the numbers that are greater than 3 into a list\n",
    "    # (Rather than a 'True' and 'False' list)\n",
    "\n",
    "A[A > 3]"
   ]
  },
  {
   "cell_type": "code",
   "execution_count": 61,
   "metadata": {
    "collapsed": false
   },
   "outputs": [
    {
     "data": {
      "text/plain": [
       "15"
      ]
     },
     "execution_count": 61,
     "metadata": {},
     "output_type": "execute_result"
    }
   ],
   "source": [
    "# Finds the sum of all the numbers in the list that are greater than 3\n",
    "    # 4 + 5 + 6 = 15\n",
    "\n",
    "sum(A[A > 3])"
   ]
  },
  {
   "cell_type": "code",
   "execution_count": 64,
   "metadata": {
    "collapsed": false
   },
   "outputs": [
    {
     "name": "stdout",
     "output_type": "stream",
     "text": [
      "[False  True  True  True  True False]\n"
     ]
    },
    {
     "data": {
      "text/plain": [
       "array([2, 3, 4, 5])"
      ]
     },
     "execution_count": 64,
     "metadata": {},
     "output_type": "execute_result"
    }
   ],
   "source": [
    "# This example creates a new variable 'Ind' that finds all the numbers in the array that are >1 AND <6\n",
    "# print(Ind) will show a list in true false format\n",
    "# A[Ind] will show only the numbers from the array the fit the boolean expression\n",
    "\n",
    "Ind = (A > 1) & (A < 6)\n",
    "print(Ind)\n",
    "A[Ind]"
   ]
  }
 ],
 "metadata": {
  "kernelspec": {
   "display_name": "Python 3",
   "language": "python",
   "name": "python3"
  },
  "language_info": {
   "codemirror_mode": {
    "name": "ipython",
    "version": 3
   },
   "file_extension": ".py",
   "mimetype": "text/x-python",
   "name": "python",
   "nbconvert_exporter": "python",
   "pygments_lexer": "ipython3",
   "version": "3.6.7"
  }
 },
 "nbformat": 4,
 "nbformat_minor": 2
}
